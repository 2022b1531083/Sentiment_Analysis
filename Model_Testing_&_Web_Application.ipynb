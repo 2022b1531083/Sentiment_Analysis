{
 "cells": [
  {
   "cell_type": "code",
   "execution_count": 37,
   "metadata": {
    "id": "7LQaH1aYIAXd"
   },
   "outputs": [
    {
     "name": "stderr",
     "output_type": "stream",
     "text": [
      "WARNING:absl:Compiled the loaded model, but the compiled metrics have yet to be built. `model.compile_metrics` will be empty until you train or evaluate the model.\n"
     ]
    }
   ],
   "source": [
    "from keras.models import load_model\n",
    "import joblib\n",
    "from tensorflow.keras.preprocessing.sequence import pad_sequences\n",
    "\n",
    "# Load model and tokenizer\n",
    "model = load_model(\"model.h5\")\n",
    "tokenizer = joblib.load(\"tokenizer.pkl\")\n",
    "\n",
    "def predictive_system(review):\n",
    "    # Preprocess the review\n",
    "    sequences = tokenizer.texts_to_sequences([review])\n",
    "    padded_sequence = pad_sequences(sequences, maxlen=200)\n",
    "    \n",
    "    # Make a prediction\n",
    "    prediction = model.predict(padded_sequence)[0][0]\n",
    "    \n",
    "    # Determine sentiment\n",
    "    sentiment = \"positive\" if prediction > 0.5 else \"negative\"\n",
    "    \n",
    "    # Convert probability to stars\n",
    "    if prediction >= 0.8:\n",
    "        stars = \"⭐⭐⭐⭐⭐\"\n",
    "    elif prediction >= 0.6:\n",
    "        stars = \"⭐⭐⭐⭐\"\n",
    "    elif prediction >= 0.4:\n",
    "        stars = \"⭐⭐⭐\"\n",
    "    elif prediction >= 0.2:\n",
    "        stars = \"⭐⭐\"\n",
    "    else:\n",
    "        stars = \"⭐\"\n",
    "    \n",
    "    # Combine sentiment and stars for output\n",
    "    result =  f\"**Sentiment:**  <span style='font-size: 32px;'>{sentiment}</span>\\n**Stars:** <span style='font-size: 32px;'>{stars}</span>\"\n",
    "    return result\n",
    "\n",
    "\n",
    "\n",
    "\n"
   ]
  },
  {
   "cell_type": "code",
   "execution_count": 38,
   "metadata": {
    "colab": {
     "base_uri": "https://localhost:8080/"
    },
    "id": "gTx3x65zJU5c",
    "outputId": "68677515-4644-4d4e-c818-7527ab8948a1"
   },
   "outputs": [
    {
     "name": "stdout",
     "output_type": "stream",
     "text": [
      "\u001b[1m1/1\u001b[0m \u001b[32m━━━━━━━━━━━━━━━━━━━━\u001b[0m\u001b[37m\u001b[0m \u001b[1m1s\u001b[0m 636ms/step\n"
     ]
    }
   ],
   "source": [
    "review_sentiment = predictive_system(\"The cooling pad does the job to some extent, but it’s not as effective as I hoped. It reduces the temperature slightly, but the fans are noisy and feel cheap. It’s lightweight and portable, which is a plus, but overall, I expected better performance for the price.\")"
   ]
  },
  {
   "cell_type": "code",
   "execution_count": 39,
   "metadata": {
    "colab": {
     "base_uri": "https://localhost:8080/",
     "height": 36
    },
    "id": "ssasKmbQJjVR",
    "outputId": "fc85d0ae-4768-4941-c8c9-b1ab3aaa250c"
   },
   "outputs": [
    {
     "data": {
      "text/plain": [
       "\"**Sentiment:**  <span style='font-size: 32px;'>positive</span>\\n**Stars:** <span style='font-size: 32px;'>⭐⭐⭐⭐</span>\""
      ]
     },
     "execution_count": 39,
     "metadata": {},
     "output_type": "execute_result"
    }
   ],
   "source": [
    "review_sentiment"
   ]
  },
  {
   "cell_type": "code",
   "execution_count": 40,
   "metadata": {},
   "outputs": [
    {
     "name": "stdout",
     "output_type": "stream",
     "text": [
      "* Running on local URL:  http://127.0.0.1:7866\n",
      "* Running on public URL: https://2e2dfb15798a91d332.gradio.live\n",
      "\n",
      "This share link expires in 72 hours. For free permanent hosting and GPU upgrades, run `gradio deploy` from the terminal in the working directory to deploy to Hugging Face Spaces (https://huggingface.co/spaces)\n"
     ]
    },
    {
     "data": {
      "text/html": [
       "<div><iframe src=\"https://2e2dfb15798a91d332.gradio.live\" width=\"100%\" height=\"500\" allow=\"autoplay; camera; microphone; clipboard-read; clipboard-write;\" frameborder=\"0\" allowfullscreen></iframe></div>"
      ],
      "text/plain": [
       "<IPython.core.display.HTML object>"
      ]
     },
     "metadata": {},
     "output_type": "display_data"
    },
    {
     "data": {
      "text/plain": []
     },
     "execution_count": 40,
     "metadata": {},
     "output_type": "execute_result"
    }
   ],
   "source": [
    "import gradio as gr\n",
    "app = gr.Interface(\n",
    "    fn=predictive_system,\n",
    "    inputs=\"textbox\",\n",
    "    outputs=\"markdown\",  # Correctly use \"markdown\" as a string\n",
    "    title=title,\n",
    "    description=\"Enter a product review to analyze its sentiment and receive a star rating.\",\n",
    "    live=True  # Display results as the user types\n",
    ")\n",
    "\n",
    "# Launch the app\n",
    "app.launch(share=True)"
   ]
  },
  {
   "cell_type": "code",
   "execution_count": 41,
   "metadata": {},
   "outputs": [
    {
     "name": "stderr",
     "output_type": "stream",
     "text": [
      "C:\\Users\\91844\\anaconda3\\Lib\\site-packages\\gradio\\blocks.py:1049: UserWarning: Cannot load huggingface. Caught Exception: 404 Client Error: Not Found for url: https://huggingface.co/api/spaces/huggingface (Request ID: Root=1-67765c7f-2bf1c8bb79f67a607e0830f2;e81146a6-d4ce-48d0-a973-f1c7ed138a25)\n",
      "\n",
      "Sorry, we can't find the page you are looking for.\n",
      "  warnings.warn(f\"Cannot load {theme}. Caught Exception: {str(e)}\")\n",
      "C:\\Users\\91844\\anaconda3\\Lib\\site-packages\\gradio\\interface.py:399: UserWarning: The `allow_flagging` parameter in `Interface` is deprecated.Use `flagging_mode` instead.\n",
      "  warnings.warn(\n"
     ]
    },
    {
     "name": "stdout",
     "output_type": "stream",
     "text": [
      "* Running on local URL:  http://127.0.0.1:7867\n",
      "* Running on public URL: https://d05522780ac43e56d0.gradio.live\n",
      "\n",
      "This share link expires in 72 hours. For free permanent hosting and GPU upgrades, run `gradio deploy` from the terminal in the working directory to deploy to Hugging Face Spaces (https://huggingface.co/spaces)\n"
     ]
    },
    {
     "data": {
      "text/html": [
       "<div><iframe src=\"https://d05522780ac43e56d0.gradio.live\" width=\"100%\" height=\"500\" allow=\"autoplay; camera; microphone; clipboard-read; clipboard-write;\" frameborder=\"0\" allowfullscreen></iframe></div>"
      ],
      "text/plain": [
       "<IPython.core.display.HTML object>"
      ]
     },
     "metadata": {},
     "output_type": "display_data"
    },
    {
     "data": {
      "text/plain": []
     },
     "execution_count": 41,
     "metadata": {},
     "output_type": "execute_result"
    }
   ],
   "source": [
    "# Define Gradio interface with a responsive and modern layout\n",
    "title = \"PRODUCT REVIEWS SENTIMENT ANALYSIS APPLICATION\"\n",
    "description = (\n",
    "    \"Welcome to the product review sentiment analysis tool. \"\n",
    "    \"Enter a product review, and the system will analyze the sentiment and provide a star rating.\"\n",
    ")\n",
    "\n",
    "app = gr.Interface(\n",
    "    fn=predictive_system,\n",
    "    inputs=gr.Textbox(\n",
    "        label=\"Enter Review\", \n",
    "        placeholder=\"Type the product review here...\",\n",
    "        lines=3,\n",
    "        max_length=500\n",
    "    ),\n",
    "    outputs=gr.Markdown(label=\"Analysis Result\", elem_id=\"output_markdown\"),\n",
    "    title=title,\n",
    "    description=description,\n",
    "    theme=\"huggingface\",  # You can change this to a different theme, like \"compact\" or \"default\"\n",
    "    live=True,  # Display results as the user types\n",
    "    \n",
    "    allow_flagging=\"never\",  # Disable flagging\n",
    "    css=\".output_markdown {font-size: 16px; color: #444; padding: 10px; border-radius: 5px; background-color: #f7f7f7;}\",\n",
    "    examples=[[\"This product is amazing!\"]],  # You can add examples for users\n",
    ")\n",
    "\n",
    "# Launch the app\n",
    "app.launch(share=True)"
   ]
  },
  {
   "cell_type": "code",
   "execution_count": null,
   "metadata": {},
   "outputs": [],
   "source": []
  },
  {
   "cell_type": "code",
   "execution_count": null,
   "metadata": {},
   "outputs": [],
   "source": []
  },
  {
   "cell_type": "code",
   "execution_count": null,
   "metadata": {},
   "outputs": [],
   "source": []
  }
 ],
 "metadata": {
  "accelerator": "GPU",
  "colab": {
   "gpuType": "T4",
   "provenance": []
  },
  "kernelspec": {
   "display_name": "Python 3 (ipykernel)",
   "language": "python",
   "name": "python3"
  },
  "language_info": {
   "codemirror_mode": {
    "name": "ipython",
    "version": 3
   },
   "file_extension": ".py",
   "mimetype": "text/x-python",
   "name": "python",
   "nbconvert_exporter": "python",
   "pygments_lexer": "ipython3",
   "version": "3.12.4"
  }
 },
 "nbformat": 4,
 "nbformat_minor": 4
}
