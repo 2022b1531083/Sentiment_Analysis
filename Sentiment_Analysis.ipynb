{
 "cells": [
  {
   "cell_type": "code",
   "execution_count": 2,
   "id": "4a522e9c-dfc9-4704-adb1-31e4a3fd789f",
   "metadata": {},
   "outputs": [],
   "source": [
    "import pandas as pd\n",
    "import numpy as np\n",
    "import warnings\n",
    "warnings.filterwarnings(\"ignore\")"
   ]
  },
  {
   "cell_type": "code",
   "execution_count": 3,
   "id": "edde3f3a-f94f-4997-9261-77435b646dc7",
   "metadata": {},
   "outputs": [],
   "source": [
    "data = pd.read_csv(\"amazon_reviews.csv\")\n"
   ]
  },
  {
   "cell_type": "code",
   "execution_count": 4,
   "id": "d73745aa-42a3-4412-b839-9b4826439900",
   "metadata": {},
   "outputs": [
    {
     "data": {
      "text/html": [
       "<div>\n",
       "<style scoped>\n",
       "    .dataframe tbody tr th:only-of-type {\n",
       "        vertical-align: middle;\n",
       "    }\n",
       "\n",
       "    .dataframe tbody tr th {\n",
       "        vertical-align: top;\n",
       "    }\n",
       "\n",
       "    .dataframe thead th {\n",
       "        text-align: right;\n",
       "    }\n",
       "</style>\n",
       "<table border=\"1\" class=\"dataframe\">\n",
       "  <thead>\n",
       "    <tr style=\"text-align: right;\">\n",
       "      <th></th>\n",
       "      <th>Review</th>\n",
       "      <th>Label</th>\n",
       "    </tr>\n",
       "  </thead>\n",
       "  <tbody>\n",
       "    <tr>\n",
       "      <th>0</th>\n",
       "      <td>Great CD: My lovely Pat has one of the GREAT v...</td>\n",
       "      <td>1</td>\n",
       "    </tr>\n",
       "    <tr>\n",
       "      <th>1</th>\n",
       "      <td>One of the best game music soundtracks - for a...</td>\n",
       "      <td>1</td>\n",
       "    </tr>\n",
       "    <tr>\n",
       "      <th>2</th>\n",
       "      <td>Batteries died within a year ...: I bought thi...</td>\n",
       "      <td>0</td>\n",
       "    </tr>\n",
       "    <tr>\n",
       "      <th>3</th>\n",
       "      <td>works fine, but Maha Energy is better: Check o...</td>\n",
       "      <td>1</td>\n",
       "    </tr>\n",
       "    <tr>\n",
       "      <th>4</th>\n",
       "      <td>Great for the non-audiophile: Reviewed quite a...</td>\n",
       "      <td>1</td>\n",
       "    </tr>\n",
       "  </tbody>\n",
       "</table>\n",
       "</div>"
      ],
      "text/plain": [
       "                                              Review  Label\n",
       "0  Great CD: My lovely Pat has one of the GREAT v...      1\n",
       "1  One of the best game music soundtracks - for a...      1\n",
       "2  Batteries died within a year ...: I bought thi...      0\n",
       "3  works fine, but Maha Energy is better: Check o...      1\n",
       "4  Great for the non-audiophile: Reviewed quite a...      1"
      ]
     },
     "execution_count": 4,
     "metadata": {},
     "output_type": "execute_result"
    }
   ],
   "source": [
    "data.head()\n"
   ]
  },
  {
   "cell_type": "code",
   "execution_count": 5,
   "id": "11b86b07-f3df-4aa6-bf45-d87abc88152e",
   "metadata": {},
   "outputs": [
    {
     "data": {
      "text/plain": [
       "(400000, 2)"
      ]
     },
     "execution_count": 5,
     "metadata": {},
     "output_type": "execute_result"
    }
   ],
   "source": [
    "data.shape\n",
    "\n"
   ]
  },
  {
   "cell_type": "code",
   "execution_count": 7,
   "id": "23f4fd40-563f-47f0-85ae-4feee79c1d2e",
   "metadata": {},
   "outputs": [
    {
     "data": {
      "text/plain": [
       "pandas.core.frame.DataFrame"
      ]
     },
     "execution_count": 7,
     "metadata": {},
     "output_type": "execute_result"
    }
   ],
   "source": [
    "type(data)\n"
   ]
  },
  {
   "cell_type": "code",
   "execution_count": 8,
   "id": "a203974c-c570-4af3-a35a-ebcbee1a907b",
   "metadata": {},
   "outputs": [
    {
     "data": {
      "text/html": [
       "<div>\n",
       "<style scoped>\n",
       "    .dataframe tbody tr th:only-of-type {\n",
       "        vertical-align: middle;\n",
       "    }\n",
       "\n",
       "    .dataframe tbody tr th {\n",
       "        vertical-align: top;\n",
       "    }\n",
       "\n",
       "    .dataframe thead th {\n",
       "        text-align: right;\n",
       "    }\n",
       "</style>\n",
       "<table border=\"1\" class=\"dataframe\">\n",
       "  <thead>\n",
       "    <tr style=\"text-align: right;\">\n",
       "      <th></th>\n",
       "      <th>Review</th>\n",
       "      <th>Label</th>\n",
       "    </tr>\n",
       "  </thead>\n",
       "  <tbody>\n",
       "    <tr>\n",
       "      <th>399995</th>\n",
       "      <td>Unbelievable- In a Bad Way: We bought this Tho...</td>\n",
       "      <td>0</td>\n",
       "    </tr>\n",
       "    <tr>\n",
       "      <th>399996</th>\n",
       "      <td>Almost Great, Until it Broke...: My son reciev...</td>\n",
       "      <td>0</td>\n",
       "    </tr>\n",
       "    <tr>\n",
       "      <th>399997</th>\n",
       "      <td>Disappointed !!!: I bought this toy for my son...</td>\n",
       "      <td>0</td>\n",
       "    </tr>\n",
       "    <tr>\n",
       "      <th>399998</th>\n",
       "      <td>Classic Jessica Mitford: This is a compilation...</td>\n",
       "      <td>1</td>\n",
       "    </tr>\n",
       "    <tr>\n",
       "      <th>399999</th>\n",
       "      <td>Comedy Scene, and Not Heard: This DVD will be ...</td>\n",
       "      <td>0</td>\n",
       "    </tr>\n",
       "  </tbody>\n",
       "</table>\n",
       "</div>"
      ],
      "text/plain": [
       "                                                   Review  Label\n",
       "399995  Unbelievable- In a Bad Way: We bought this Tho...      0\n",
       "399996  Almost Great, Until it Broke...: My son reciev...      0\n",
       "399997  Disappointed !!!: I bought this toy for my son...      0\n",
       "399998  Classic Jessica Mitford: This is a compilation...      1\n",
       "399999  Comedy Scene, and Not Heard: This DVD will be ...      0"
      ]
     },
     "execution_count": 8,
     "metadata": {},
     "output_type": "execute_result"
    }
   ],
   "source": [
    "data.tail()\n"
   ]
  },
  {
   "cell_type": "code",
   "execution_count": 9,
   "id": "c389ba0c-a9f1-49dd-96d0-7ae53dcba37d",
   "metadata": {},
   "outputs": [
    {
     "data": {
      "text/plain": [
       "Label\n",
       "1    200000\n",
       "0    200000\n",
       "Name: count, dtype: int64"
      ]
     },
     "execution_count": 9,
     "metadata": {},
     "output_type": "execute_result"
    }
   ],
   "source": [
    "data[\"Label\"].value_counts()\n"
   ]
  },
  {
   "cell_type": "code",
   "execution_count": 10,
   "id": "1ff06d9d-9623-4195-a570-acfc1d19804a",
   "metadata": {},
   "outputs": [],
   "source": [
    "# one hot encoding\n",
    "# label encoder"
   ]
  },
  {
   "cell_type": "code",
   "execution_count": 11,
   "id": "e318873c-4350-4da6-baa4-20a86319246e",
   "metadata": {},
   "outputs": [],
   "source": [
    "# positive -> 1\n",
    "# negative -> 0\n",
    "data.replace({\"Review\": {\"positive\": 1, \"negative\": 0}}, inplace=True)"
   ]
  },
  {
   "cell_type": "code",
   "execution_count": 12,
   "id": "6010f68e-a71d-4d43-bc31-38c64cdc11a2",
   "metadata": {},
   "outputs": [
    {
     "data": {
      "text/html": [
       "<div>\n",
       "<style scoped>\n",
       "    .dataframe tbody tr th:only-of-type {\n",
       "        vertical-align: middle;\n",
       "    }\n",
       "\n",
       "    .dataframe tbody tr th {\n",
       "        vertical-align: top;\n",
       "    }\n",
       "\n",
       "    .dataframe thead th {\n",
       "        text-align: right;\n",
       "    }\n",
       "</style>\n",
       "<table border=\"1\" class=\"dataframe\">\n",
       "  <thead>\n",
       "    <tr style=\"text-align: right;\">\n",
       "      <th></th>\n",
       "      <th>Review</th>\n",
       "      <th>Label</th>\n",
       "    </tr>\n",
       "  </thead>\n",
       "  <tbody>\n",
       "    <tr>\n",
       "      <th>0</th>\n",
       "      <td>Great CD: My lovely Pat has one of the GREAT v...</td>\n",
       "      <td>1</td>\n",
       "    </tr>\n",
       "    <tr>\n",
       "      <th>1</th>\n",
       "      <td>One of the best game music soundtracks - for a...</td>\n",
       "      <td>1</td>\n",
       "    </tr>\n",
       "    <tr>\n",
       "      <th>2</th>\n",
       "      <td>Batteries died within a year ...: I bought thi...</td>\n",
       "      <td>0</td>\n",
       "    </tr>\n",
       "    <tr>\n",
       "      <th>3</th>\n",
       "      <td>works fine, but Maha Energy is better: Check o...</td>\n",
       "      <td>1</td>\n",
       "    </tr>\n",
       "    <tr>\n",
       "      <th>4</th>\n",
       "      <td>Great for the non-audiophile: Reviewed quite a...</td>\n",
       "      <td>1</td>\n",
       "    </tr>\n",
       "  </tbody>\n",
       "</table>\n",
       "</div>"
      ],
      "text/plain": [
       "                                              Review  Label\n",
       "0  Great CD: My lovely Pat has one of the GREAT v...      1\n",
       "1  One of the best game music soundtracks - for a...      1\n",
       "2  Batteries died within a year ...: I bought thi...      0\n",
       "3  works fine, but Maha Energy is better: Check o...      1\n",
       "4  Great for the non-audiophile: Reviewed quite a...      1"
      ]
     },
     "execution_count": 12,
     "metadata": {},
     "output_type": "execute_result"
    }
   ],
   "source": [
    "data.head()\n"
   ]
  },
  {
   "cell_type": "code",
   "execution_count": 13,
   "id": "314f78bc-a91e-4fdb-8c6f-9671374bba5f",
   "metadata": {},
   "outputs": [
    {
     "data": {
      "text/html": [
       "<div>\n",
       "<style scoped>\n",
       "    .dataframe tbody tr th:only-of-type {\n",
       "        vertical-align: middle;\n",
       "    }\n",
       "\n",
       "    .dataframe tbody tr th {\n",
       "        vertical-align: top;\n",
       "    }\n",
       "\n",
       "    .dataframe thead th {\n",
       "        text-align: right;\n",
       "    }\n",
       "</style>\n",
       "<table border=\"1\" class=\"dataframe\">\n",
       "  <thead>\n",
       "    <tr style=\"text-align: right;\">\n",
       "      <th></th>\n",
       "      <th>Review</th>\n",
       "      <th>Label</th>\n",
       "    </tr>\n",
       "  </thead>\n",
       "  <tbody>\n",
       "    <tr>\n",
       "      <th>399995</th>\n",
       "      <td>Unbelievable- In a Bad Way: We bought this Tho...</td>\n",
       "      <td>0</td>\n",
       "    </tr>\n",
       "    <tr>\n",
       "      <th>399996</th>\n",
       "      <td>Almost Great, Until it Broke...: My son reciev...</td>\n",
       "      <td>0</td>\n",
       "    </tr>\n",
       "    <tr>\n",
       "      <th>399997</th>\n",
       "      <td>Disappointed !!!: I bought this toy for my son...</td>\n",
       "      <td>0</td>\n",
       "    </tr>\n",
       "    <tr>\n",
       "      <th>399998</th>\n",
       "      <td>Classic Jessica Mitford: This is a compilation...</td>\n",
       "      <td>1</td>\n",
       "    </tr>\n",
       "    <tr>\n",
       "      <th>399999</th>\n",
       "      <td>Comedy Scene, and Not Heard: This DVD will be ...</td>\n",
       "      <td>0</td>\n",
       "    </tr>\n",
       "  </tbody>\n",
       "</table>\n",
       "</div>"
      ],
      "text/plain": [
       "                                                   Review  Label\n",
       "399995  Unbelievable- In a Bad Way: We bought this Tho...      0\n",
       "399996  Almost Great, Until it Broke...: My son reciev...      0\n",
       "399997  Disappointed !!!: I bought this toy for my son...      0\n",
       "399998  Classic Jessica Mitford: This is a compilation...      1\n",
       "399999  Comedy Scene, and Not Heard: This DVD will be ...      0"
      ]
     },
     "execution_count": 13,
     "metadata": {},
     "output_type": "execute_result"
    }
   ],
   "source": [
    "data.tail()\n"
   ]
  },
  {
   "cell_type": "code",
   "execution_count": 14,
   "id": "c557a3fc-1294-4903-be7e-8befe987583e",
   "metadata": {},
   "outputs": [
    {
     "data": {
      "text/plain": [
       "Label\n",
       "1    200000\n",
       "0    200000\n",
       "Name: count, dtype: int64"
      ]
     },
     "execution_count": 14,
     "metadata": {},
     "output_type": "execute_result"
    }
   ],
   "source": [
    "data[\"Label\"].value_counts()\n"
   ]
  },
  {
   "cell_type": "code",
   "execution_count": 15,
   "id": "2b993944-a2e0-49d0-a219-881b9d30e3c8",
   "metadata": {},
   "outputs": [],
   "source": [
    "\n",
    "# LSTM -> LONG SHORT TERM MEMORY\n",
    "# RNN -> TEXTUAL DATA"
   ]
  },
  {
   "cell_type": "code",
   "execution_count": 16,
   "id": "e812e13d-74b2-4c21-ae5f-f2922a99dc0c",
   "metadata": {},
   "outputs": [],
   "source": [
    "from sklearn.model_selection import train_test_split\n",
    "from tensorflow.keras.models import Sequential\n",
    "from tensorflow.keras.layers import Dense, Embedding, LSTM\n",
    "from tensorflow.keras.preprocessing.text import Tokenizer\n",
    "from tensorflow.keras.preprocessing.sequence import pad_sequences"
   ]
  },
  {
   "cell_type": "code",
   "execution_count": 17,
   "id": "e99994c2-2c6a-4436-bb5a-bef2a5124f70",
   "metadata": {},
   "outputs": [],
   "source": [
    "train_data, test_data = train_test_split(data, test_size = 0.2, random_state=42)\n"
   ]
  },
  {
   "cell_type": "code",
   "execution_count": 18,
   "id": "d62b01e9-01e6-4983-8586-68158c857eed",
   "metadata": {},
   "outputs": [
    {
     "data": {
      "text/plain": [
       "(320000, 2)"
      ]
     },
     "execution_count": 18,
     "metadata": {},
     "output_type": "execute_result"
    }
   ],
   "source": [
    "train_data.shape\n"
   ]
  },
  {
   "cell_type": "code",
   "execution_count": 26,
   "id": "2127c90d-7140-4aee-b712-aec13110941b",
   "metadata": {},
   "outputs": [
    {
     "data": {
      "text/plain": [
       "(80000, 2)"
      ]
     },
     "execution_count": 26,
     "metadata": {},
     "output_type": "execute_result"
    }
   ],
   "source": [
    "test_data.shape\n"
   ]
  },
  {
   "cell_type": "code",
   "execution_count": 30,
   "id": "39f5f4c5-33b6-4276-98ba-f660f577ebdf",
   "metadata": {},
   "outputs": [],
   "source": [
    "tokenizer = Tokenizer(num_words = 5000)\n",
    "tokenizer.fit_on_texts(train_data[\"Review\"])\n"
   ]
  },
  {
   "cell_type": "code",
   "execution_count": 33,
   "id": "c8447c2d-5d34-45ec-9cec-d8f8b49dfc00",
   "metadata": {},
   "outputs": [],
   "source": [
    "X_train = pad_sequences(tokenizer.texts_to_sequences(train_data[\"Review\"]), maxlen=300)\n",
    "X_test = pad_sequences(tokenizer.texts_to_sequences(test_data[\"Review\"]), maxlen=300)"
   ]
  },
  {
   "cell_type": "code",
   "execution_count": 9,
   "id": "c4212f06-7820-4450-86b4-196ef272b58e",
   "metadata": {},
   "outputs": [
    {
     "ename": "NameError",
     "evalue": "name 'X_train' is not defined",
     "output_type": "error",
     "traceback": [
      "\u001b[1;31m---------------------------------------------------------------------------\u001b[0m",
      "\u001b[1;31mNameError\u001b[0m                                 Traceback (most recent call last)",
      "Cell \u001b[1;32mIn[9], line 1\u001b[0m\n\u001b[1;32m----> 1\u001b[0m \u001b[43mX_train\u001b[49m\n",
      "\u001b[1;31mNameError\u001b[0m: name 'X_train' is not defined"
     ]
    }
   ],
   "source": [
    "X_train\n"
   ]
  },
  {
   "cell_type": "code",
   "execution_count": 35,
   "id": "e85bfbfd-e8e1-40ab-b8f4-62840abf797a",
   "metadata": {},
   "outputs": [
    {
     "data": {
      "text/plain": [
       "array([[   0,    0,    0, ...,   10,    4,  156],\n",
       "       [   0,    0,    0, ...,    1, 3045,    7],\n",
       "       [   0,    0,    0, ...,  282,   55, 4587],\n",
       "       ...,\n",
       "       [   0,    0,    0, ..., 1374, 1215, 1468],\n",
       "       [   0,    0,    0, ...,   40,    8,   19],\n",
       "       [   0,    0,    0, ...,   15,  774,   11]])"
      ]
     },
     "execution_count": 35,
     "metadata": {},
     "output_type": "execute_result"
    }
   ],
   "source": [
    "X_test\n"
   ]
  },
  {
   "cell_type": "code",
   "execution_count": 36,
   "id": "6100f278-c85d-4361-beff-e812a9bff77a",
   "metadata": {},
   "outputs": [],
   "source": [
    "Y_train = train_data[\"Label\"]\n",
    "Y_test = test_data[\"Label\"]"
   ]
  },
  {
   "cell_type": "code",
   "execution_count": 37,
   "id": "8561248b-d389-4319-b13a-123464082c35",
   "metadata": {},
   "outputs": [
    {
     "data": {
      "text/plain": [
       "242245    0\n",
       "288918    1\n",
       "105103    0\n",
       "63504     0\n",
       "239180    0\n",
       "         ..\n",
       "259178    0\n",
       "365838    0\n",
       "131932    0\n",
       "146867    0\n",
       "121958    1\n",
       "Name: Label, Length: 320000, dtype: int64"
      ]
     },
     "execution_count": 37,
     "metadata": {},
     "output_type": "execute_result"
    }
   ],
   "source": [
    "Y_train\n"
   ]
  },
  {
   "cell_type": "code",
   "execution_count": 38,
   "id": "71b3bde7-f9f7-4168-bd9b-cd80d78d4806",
   "metadata": {},
   "outputs": [],
   "source": [
    "# LSTM MODEL BUILDING\n"
   ]
  },
  {
   "cell_type": "code",
   "execution_count": 39,
   "id": "3dfe839e-d3fa-4fc9-b8c6-ea6a8f25d6cb",
   "metadata": {},
   "outputs": [],
   "source": [
    "model = Sequential()\n",
    "model.add(Embedding(input_dim =5000, output_dim = 128, input_length = 200))\n",
    "model.add(LSTM(128, dropout=0.2, recurrent_dropout = 0.2))\n",
    "model.add(Dense(1, activation = \"sigmoid\"))"
   ]
  },
  {
   "cell_type": "code",
   "execution_count": 40,
   "id": "b2a34aeb-eb7c-4d4d-9939-b03a562b02dd",
   "metadata": {},
   "outputs": [
    {
     "data": {
      "text/html": [
       "<pre style=\"white-space:pre;overflow-x:auto;line-height:normal;font-family:Menlo,'DejaVu Sans Mono',consolas,'Courier New',monospace\"><span style=\"font-weight: bold\">Model: \"sequential\"</span>\n",
       "</pre>\n"
      ],
      "text/plain": [
       "\u001b[1mModel: \"sequential\"\u001b[0m\n"
      ]
     },
     "metadata": {},
     "output_type": "display_data"
    },
    {
     "data": {
      "text/html": [
       "<pre style=\"white-space:pre;overflow-x:auto;line-height:normal;font-family:Menlo,'DejaVu Sans Mono',consolas,'Courier New',monospace\">┏━━━━━━━━━━━━━━━━━━━━━━━━━━━━━━━━━━━━━━┳━━━━━━━━━━━━━━━━━━━━━━━━━━━━━┳━━━━━━━━━━━━━━━━━┓\n",
       "┃<span style=\"font-weight: bold\"> Layer (type)                         </span>┃<span style=\"font-weight: bold\"> Output Shape                </span>┃<span style=\"font-weight: bold\">         Param # </span>┃\n",
       "┡━━━━━━━━━━━━━━━━━━━━━━━━━━━━━━━━━━━━━━╇━━━━━━━━━━━━━━━━━━━━━━━━━━━━━╇━━━━━━━━━━━━━━━━━┩\n",
       "│ embedding (<span style=\"color: #0087ff; text-decoration-color: #0087ff\">Embedding</span>)                │ ?                           │     <span style=\"color: #00af00; text-decoration-color: #00af00\">0</span> (unbuilt) │\n",
       "├──────────────────────────────────────┼─────────────────────────────┼─────────────────┤\n",
       "│ lstm (<span style=\"color: #0087ff; text-decoration-color: #0087ff\">LSTM</span>)                          │ ?                           │     <span style=\"color: #00af00; text-decoration-color: #00af00\">0</span> (unbuilt) │\n",
       "├──────────────────────────────────────┼─────────────────────────────┼─────────────────┤\n",
       "│ dense (<span style=\"color: #0087ff; text-decoration-color: #0087ff\">Dense</span>)                        │ ?                           │     <span style=\"color: #00af00; text-decoration-color: #00af00\">0</span> (unbuilt) │\n",
       "└──────────────────────────────────────┴─────────────────────────────┴─────────────────┘\n",
       "</pre>\n"
      ],
      "text/plain": [
       "┏━━━━━━━━━━━━━━━━━━━━━━━━━━━━━━━━━━━━━━┳━━━━━━━━━━━━━━━━━━━━━━━━━━━━━┳━━━━━━━━━━━━━━━━━┓\n",
       "┃\u001b[1m \u001b[0m\u001b[1mLayer (type)                        \u001b[0m\u001b[1m \u001b[0m┃\u001b[1m \u001b[0m\u001b[1mOutput Shape               \u001b[0m\u001b[1m \u001b[0m┃\u001b[1m \u001b[0m\u001b[1m        Param #\u001b[0m\u001b[1m \u001b[0m┃\n",
       "┡━━━━━━━━━━━━━━━━━━━━━━━━━━━━━━━━━━━━━━╇━━━━━━━━━━━━━━━━━━━━━━━━━━━━━╇━━━━━━━━━━━━━━━━━┩\n",
       "│ embedding (\u001b[38;5;33mEmbedding\u001b[0m)                │ ?                           │     \u001b[38;5;34m0\u001b[0m (unbuilt) │\n",
       "├──────────────────────────────────────┼─────────────────────────────┼─────────────────┤\n",
       "│ lstm (\u001b[38;5;33mLSTM\u001b[0m)                          │ ?                           │     \u001b[38;5;34m0\u001b[0m (unbuilt) │\n",
       "├──────────────────────────────────────┼─────────────────────────────┼─────────────────┤\n",
       "│ dense (\u001b[38;5;33mDense\u001b[0m)                        │ ?                           │     \u001b[38;5;34m0\u001b[0m (unbuilt) │\n",
       "└──────────────────────────────────────┴─────────────────────────────┴─────────────────┘\n"
      ]
     },
     "metadata": {},
     "output_type": "display_data"
    },
    {
     "data": {
      "text/html": [
       "<pre style=\"white-space:pre;overflow-x:auto;line-height:normal;font-family:Menlo,'DejaVu Sans Mono',consolas,'Courier New',monospace\"><span style=\"font-weight: bold\"> Total params: </span><span style=\"color: #00af00; text-decoration-color: #00af00\">0</span> (0.00 B)\n",
       "</pre>\n"
      ],
      "text/plain": [
       "\u001b[1m Total params: \u001b[0m\u001b[38;5;34m0\u001b[0m (0.00 B)\n"
      ]
     },
     "metadata": {},
     "output_type": "display_data"
    },
    {
     "data": {
      "text/html": [
       "<pre style=\"white-space:pre;overflow-x:auto;line-height:normal;font-family:Menlo,'DejaVu Sans Mono',consolas,'Courier New',monospace\"><span style=\"font-weight: bold\"> Trainable params: </span><span style=\"color: #00af00; text-decoration-color: #00af00\">0</span> (0.00 B)\n",
       "</pre>\n"
      ],
      "text/plain": [
       "\u001b[1m Trainable params: \u001b[0m\u001b[38;5;34m0\u001b[0m (0.00 B)\n"
      ]
     },
     "metadata": {},
     "output_type": "display_data"
    },
    {
     "data": {
      "text/html": [
       "<pre style=\"white-space:pre;overflow-x:auto;line-height:normal;font-family:Menlo,'DejaVu Sans Mono',consolas,'Courier New',monospace\"><span style=\"font-weight: bold\"> Non-trainable params: </span><span style=\"color: #00af00; text-decoration-color: #00af00\">0</span> (0.00 B)\n",
       "</pre>\n"
      ],
      "text/plain": [
       "\u001b[1m Non-trainable params: \u001b[0m\u001b[38;5;34m0\u001b[0m (0.00 B)\n"
      ]
     },
     "metadata": {},
     "output_type": "display_data"
    }
   ],
   "source": [
    "model.summary()\n"
   ]
  },
  {
   "cell_type": "code",
   "execution_count": 41,
   "id": "d10f0570-7632-45a8-a08d-bf9e163c40ca",
   "metadata": {},
   "outputs": [],
   "source": [
    "model.compile(optimizer = \"adam\", loss=\"binary_crossentropy\", metrics=[\"accuracy\"])\n"
   ]
  },
  {
   "cell_type": "code",
   "execution_count": 42,
   "id": "f05d15ea-7d57-47bf-97b9-b38267989be2",
   "metadata": {},
   "outputs": [
    {
     "name": "stdout",
     "output_type": "stream",
     "text": [
      "Epoch 1/5\n",
      "\u001b[1m4000/4000\u001b[0m \u001b[32m━━━━━━━━━━━━━━━━━━━━\u001b[0m\u001b[37m\u001b[0m \u001b[1m2786s\u001b[0m 695ms/step - accuracy: 0.8472 - loss: 0.3544 - val_accuracy: 0.9192 - val_loss: 0.2046\n",
      "Epoch 2/5\n",
      "\u001b[1m4000/4000\u001b[0m \u001b[32m━━━━━━━━━━━━━━━━━━━━\u001b[0m\u001b[37m\u001b[0m \u001b[1m4277s\u001b[0m 1s/step - accuracy: 0.9240 - loss: 0.1960 - val_accuracy: 0.9238 - val_loss: 0.1930\n",
      "Epoch 3/5\n",
      "\u001b[1m4000/4000\u001b[0m \u001b[32m━━━━━━━━━━━━━━━━━━━━\u001b[0m\u001b[37m\u001b[0m \u001b[1m1379s\u001b[0m 345ms/step - accuracy: 0.9357 - loss: 0.1668 - val_accuracy: 0.9310 - val_loss: 0.1816\n",
      "Epoch 4/5\n",
      "\u001b[1m4000/4000\u001b[0m \u001b[32m━━━━━━━━━━━━━━━━━━━━\u001b[0m\u001b[37m\u001b[0m \u001b[1m1415s\u001b[0m 354ms/step - accuracy: 0.9449 - loss: 0.1463 - val_accuracy: 0.9338 - val_loss: 0.1729\n",
      "Epoch 5/5\n",
      "\u001b[1m4000/4000\u001b[0m \u001b[32m━━━━━━━━━━━━━━━━━━━━\u001b[0m\u001b[37m\u001b[0m \u001b[1m8095s\u001b[0m 2s/step - accuracy: 0.9517 - loss: 0.1291 - val_accuracy: 0.9326 - val_loss: 0.1796\n"
     ]
    },
    {
     "data": {
      "text/plain": [
       "<keras.src.callbacks.history.History at 0x1e3ec894920>"
      ]
     },
     "execution_count": 42,
     "metadata": {},
     "output_type": "execute_result"
    }
   ],
   "source": [
    "model.fit(X_train, Y_train, epochs = 5, batch_size = 64, validation_split = 0.2)\n"
   ]
  },
  {
   "cell_type": "code",
   "execution_count": 43,
   "id": "2240efa6-ee30-4e5d-9e69-bfc58f5e1cbc",
   "metadata": {},
   "outputs": [
    {
     "name": "stderr",
     "output_type": "stream",
     "text": [
      "WARNING:absl:You are saving your model as an HDF5 file via `model.save()` or `keras.saving.save_model(model)`. This file format is considered legacy. We recommend using instead the native Keras format, e.g. `model.save('my_model.keras')` or `keras.saving.save_model(model, 'my_model.keras')`. \n"
     ]
    }
   ],
   "source": [
    "model.save(\"model.h5\")\n"
   ]
  },
  {
   "cell_type": "code",
   "execution_count": 44,
   "id": "b8171ad5-5c51-4062-8158-80097830344d",
   "metadata": {},
   "outputs": [
    {
     "data": {
      "text/plain": [
       "['tokenizer.pkl']"
      ]
     },
     "execution_count": 44,
     "metadata": {},
     "output_type": "execute_result"
    }
   ],
   "source": [
    "import joblib\n",
    "joblib.dump(tokenizer, \"tokenizer.pkl\")\n"
   ]
  },
  {
   "cell_type": "code",
   "execution_count": 45,
   "id": "5c521e37-bce5-4f69-9cbb-4fb6b1c763c6",
   "metadata": {},
   "outputs": [
    {
     "name": "stdout",
     "output_type": "stream",
     "text": [
      "\u001b[1m2500/2500\u001b[0m \u001b[32m━━━━━━━━━━━━━━━━━━━━\u001b[0m\u001b[37m\u001b[0m \u001b[1m280s\u001b[0m 112ms/step - accuracy: 0.9315 - loss: 0.1817\n"
     ]
    }
   ],
   "source": [
    "loss, accuracy = model.evaluate(X_test, Y_test)\n"
   ]
  },
  {
   "cell_type": "code",
   "execution_count": 46,
   "id": "985d2c15-ebab-495b-86dc-5143229e8800",
   "metadata": {},
   "outputs": [
    {
     "name": "stdout",
     "output_type": "stream",
     "text": [
      "0.18053610622882843\n"
     ]
    }
   ],
   "source": [
    "print(loss)\n"
   ]
  },
  {
   "cell_type": "code",
   "execution_count": 47,
   "id": "0dd432e9-7d0b-4ee8-9782-ccce7c95a754",
   "metadata": {},
   "outputs": [
    {
     "name": "stdout",
     "output_type": "stream",
     "text": [
      "0.9311375021934509\n"
     ]
    }
   ],
   "source": [
    "print(accuracy)\n"
   ]
  },
  {
   "cell_type": "code",
   "execution_count": 48,
   "id": "aac659af-1184-440a-8857-8d6dfb870fb7",
   "metadata": {},
   "outputs": [],
   "source": [
    "# Building Predictive System\n"
   ]
  },
  {
   "cell_type": "code",
   "execution_count": 49,
   "id": "d77e7b84-9727-45cd-88ea-3304989c9437",
   "metadata": {},
   "outputs": [],
   "source": [
    "def predictive_system(review):\n",
    "  sequences = tokenizer.texts_to_sequences([review])\n",
    "  padded_sequence = pad_sequences(sequences, maxlen=200)\n",
    "  prediction = model.predict(padded_sequence)\n",
    "  sentiment = \"positive\" if prediction[0][0] > 0.5 else \"negative\"\n",
    "  return sentiment"
   ]
  },
  {
   "cell_type": "code",
   "execution_count": 81,
   "id": "f54bebe4-9939-40a7-b7d4-2f7b48cc9959",
   "metadata": {},
   "outputs": [
    {
     "name": "stdout",
     "output_type": "stream",
     "text": [
      "\u001b[1m1/1\u001b[0m \u001b[32m━━━━━━━━━━━━━━━━━━━━\u001b[0m\u001b[37m\u001b[0m \u001b[1m0s\u001b[0m 352ms/step\n"
     ]
    },
    {
     "data": {
      "text/plain": [
       "'positive'"
      ]
     },
     "execution_count": 81,
     "metadata": {},
     "output_type": "execute_result"
    }
   ],
   "source": [
    "predictive_system(\"The sound quality is amazing! The bass is deep, and the treble is clear. They fit snugly in my ears and are super comfortable even after hours of use. Battery life lasts for days, and the noise cancellation is impressive for the price. Highly recommend\")\n"
   ]
  },
  {
   "cell_type": "code",
   "execution_count": 83,
   "id": "e3bb5cc6-905d-4d93-a4b2-08c646c71e45",
   "metadata": {},
   "outputs": [
    {
     "name": "stdout",
     "output_type": "stream",
     "text": [
      "\u001b[1m1/1\u001b[0m \u001b[32m━━━━━━━━━━━━━━━━━━━━\u001b[0m\u001b[37m\u001b[0m \u001b[1m0s\u001b[0m 47ms/step\n"
     ]
    },
    {
     "data": {
      "text/plain": [
       "'negative'"
      ]
     },
     "execution_count": 83,
     "metadata": {},
     "output_type": "execute_result"
    }
   ],
   "source": [
    "predictive_system(\"Terrible experience! The earbuds stopped working after just one week. The sound quality was mediocre, and the battery barely lasted 2 hours. Worst of all, customer support was unhelpful and refused to provide a replacement. Do not buy these!\")\n"
   ]
  },
  {
   "cell_type": "code",
   "execution_count": 85,
   "id": "5e5b1dbd-bc1c-4421-a877-af6f4c0ce2c7",
   "metadata": {},
   "outputs": [
    {
     "name": "stdout",
     "output_type": "stream",
     "text": [
      "\u001b[1m1/1\u001b[0m \u001b[32m━━━━━━━━━━━━━━━━━━━━\u001b[0m\u001b[37m\u001b[0m \u001b[1m0s\u001b[0m 47ms/step\n"
     ]
    },
    {
     "data": {
      "text/plain": [
       "'negative'"
      ]
     },
     "execution_count": 85,
     "metadata": {},
     "output_type": "execute_result"
    }
   ],
   "source": [
    "predictive_system(\"The kettle looks great, but that’s the only good thing about it. It takes too long to boil water, and the handle gets extremely hot, making it hard to use. After just a month, it started leaking water. Disappointed with the quality.\")\n"
   ]
  },
  {
   "cell_type": "code",
   "execution_count": 87,
   "id": "6df967c5-7f72-4a73-8e2e-ac65b9cc8c7a",
   "metadata": {},
   "outputs": [
    {
     "name": "stdout",
     "output_type": "stream",
     "text": [
      "\u001b[1m1/1\u001b[0m \u001b[32m━━━━━━━━━━━━━━━━━━━━\u001b[0m\u001b[37m\u001b[0m \u001b[1m0s\u001b[0m 47ms/step\n"
     ]
    },
    {
     "data": {
      "text/plain": [
       "'positive'"
      ]
     },
     "execution_count": 87,
     "metadata": {},
     "output_type": "execute_result"
    }
   ],
   "source": [
    "predictive_system(\"The smartwatch is excellent for fitness tracking and notifications. The screen is bright and responsive, and the battery life is decent. However, the strap feels a bit cheap, and the app interface could use some improvement. Overall, it’s a great value for the price.\")\n"
   ]
  },
  {
   "cell_type": "code",
   "execution_count": null,
   "id": "988d82f3-8aae-4da1-9761-3a7ff6e31627",
   "metadata": {},
   "outputs": [],
   "source": []
  },
  {
   "cell_type": "code",
   "execution_count": null,
   "id": "96b94b97-b43e-4e5c-b36e-5a5471ad8305",
   "metadata": {},
   "outputs": [],
   "source": []
  }
 ],
 "metadata": {
  "kernelspec": {
   "display_name": "Python 3 (ipykernel)",
   "language": "python",
   "name": "python3"
  },
  "language_info": {
   "codemirror_mode": {
    "name": "ipython",
    "version": 3
   },
   "file_extension": ".py",
   "mimetype": "text/x-python",
   "name": "python",
   "nbconvert_exporter": "python",
   "pygments_lexer": "ipython3",
   "version": "3.12.4"
  }
 },
 "nbformat": 4,
 "nbformat_minor": 5
}
